{
 "cells": [
  {
   "cell_type": "markdown",
   "metadata": {
    "id": "d8yCrvnM_2sd"
   },
   "source": [
    "# Módulo 07, Tarefa 01\n",
    "\n",
    "Vamos começar a mexer na nossa base de projeto? Já fizemos um exercício de montar a variável resposta, já pudemos perceber que essa atividade pode não ser trivial. Vamos agora trabalhar a base para que fique propícia ao *scikitlearn* para trabalharmos.\n",
    "\n",
    "Lembrando, a base se chama demo01.csv, e originalmente está publicada [aqui](https://www.kaggle.com/rikdifos/credit-card-approval-prediction)."
   ]
  },
  {
   "cell_type": "markdown",
   "metadata": {
    "id": "hcMBVVE8_2sg"
   },
   "source": [
    "#### 1) Carregue a base e avalie:\n",
    "\n",
    "- As variáveis\n",
    "- Tipos de dados de cada variável\n",
    "- Quantidade de missings\n",
    "- Distribuição da variável resposta (mau)"
   ]
  },
  {
   "cell_type": "code",
   "execution_count": 48,
   "metadata": {
    "id": "jfUxW_PX_2sh"
   },
   "outputs": [
    {
     "name": "stdout",
     "output_type": "stream",
     "text": [
      "Base de dados carregada com sucesso!\n",
      "\n",
      "Tipos de dados de cada variável:\n",
      "sexo                      object\n",
      "posse_de_veiculo          object\n",
      "posse_de_imovel           object\n",
      "qtd_filhos                 int64\n",
      "tipo_renda                object\n",
      "educacao                  object\n",
      "estado_civil              object\n",
      "tipo_residencia           object\n",
      "idade                    float64\n",
      "tempo_emprego            float64\n",
      "possui_celular             int64\n",
      "possui_fone_comercial      int64\n",
      "possui_fone                int64\n",
      "possui_email               int64\n",
      "qt_pessoas_residencia    float64\n",
      "mau                         bool\n",
      "dtype: object\n",
      "\n",
      "Quantidade de missings por coluna:\n",
      "sexo                     0\n",
      "posse_de_veiculo         0\n",
      "posse_de_imovel          0\n",
      "qtd_filhos               0\n",
      "tipo_renda               0\n",
      "educacao                 0\n",
      "estado_civil             0\n",
      "tipo_residencia          0\n",
      "idade                    0\n",
      "tempo_emprego            0\n",
      "possui_celular           0\n",
      "possui_fone_comercial    0\n",
      "possui_fone              0\n",
      "possui_email             0\n",
      "qt_pessoas_residencia    0\n",
      "mau                      0\n",
      "dtype: int64\n",
      "\n",
      "Colunas da base:\n",
      "['sexo', 'posse_de_veiculo', 'posse_de_imovel', 'qtd_filhos', 'tipo_renda', 'educacao', 'estado_civil', 'tipo_residencia', 'idade', 'tempo_emprego', 'possui_celular', 'possui_fone_comercial', 'possui_fone', 'possui_email', 'qt_pessoas_residencia', 'mau']\n",
      "\n",
      "Verificando se 'mau' está na base:\n",
      "✅ A coluna 'mau' está na base.\n",
      "\n",
      "Valores únicos da variável 'mau':\n",
      "[False  True]\n",
      "Coluna 'mau' convertida para tipo inteiro (0 ou 1).\n",
      "\n",
      "Distribuição da variável 'mau':\n",
      "mau\n",
      "0    0.976577\n",
      "1    0.023423\n",
      "Name: proportion, dtype: float64\n",
      "mau\n",
      "0    16260\n",
      "1      390\n",
      "Name: count, dtype: int64\n"
     ]
    }
   ],
   "source": [
    "# Importar bibliotecas\n",
    "import pandas as pd\n",
    "\n",
    "# Carregar a base de dados\n",
    "# Certifique-se de que o arquivo 'Profissão Cientista de Dados M7 A1 - demo01.csv'\n",
    "# esteja no mesmo diretório do seu Jupyter Notebook, ou forneça o caminho completo.\n",
    "try:\n",
    "    df = pd.read_csv('Profissão Cientista de Dados M7 A1 - demo01.csv')\n",
    "    print(\"Base de dados carregada com sucesso!\")\n",
    "except FileNotFoundError:\n",
    "    print(\"ERRO: O arquivo 'Profissão Cientista de Dados M7 A1 - demo01.csv' não foi encontrado.\")\n",
    "    print(\"Por favor, verifique se o arquivo está no diretório correto ou se o nome está exato.\")\n",
    "    # Exiting or handling the error gracefully, for now, we'll just print and stop\n",
    "    exit() # You might want to remove this line if you want the rest of the code to run with an empty df or handle it differently\n",
    "\n",
    "# Limpar espaços nos nomes das colunas\n",
    "df.columns = df.columns.str.strip()\n",
    "\n",
    "# Verificar informações gerais\n",
    "print(\"\\nTipos de dados de cada variável:\")\n",
    "print(df.dtypes)\n",
    "\n",
    "# Verificar quantidade de valores ausentes (missing)\n",
    "print(\"\\nQuantidade de missings por coluna:\")\n",
    "print(df.isnull().sum())\n",
    "\n",
    "# Conferir se a coluna 'mau' existe\n",
    "print(\"\\nColunas da base:\")\n",
    "print(df.columns.tolist())\n",
    "\n",
    "print(\"\\nVerificando se 'mau' está na base:\")\n",
    "if 'mau' in df.columns:\n",
    "    print(\"✅ A coluna 'mau' está na base.\")\n",
    "    print(\"\\nValores únicos da variável 'mau':\")\n",
    "    print(df['mau'].unique())\n",
    "\n",
    "    # Converter 'mau' de booleano para inteiro, se necessário\n",
    "    # Esta conversão é importante para que a variável resposta seja numérica (0 ou 1)\n",
    "    if df['mau'].dtype == 'bool':\n",
    "        df['mau'] = df['mau'].astype(int)\n",
    "        print(\"Coluna 'mau' convertida para tipo inteiro (0 ou 1).\")\n",
    "    elif df['mau'].dtype not in ['int64', 'float64']:\n",
    "        # Se 'mau' não for bool, int ou float, tentar converter para int\n",
    "        try:\n",
    "            df['mau'] = df['mau'].astype(int)\n",
    "            print(\"Coluna 'mau' convertida para tipo inteiro (0 ou 1).\")\n",
    "        except ValueError:\n",
    "            print(\"AVISO: Não foi possível converter a coluna 'mau' para inteiro. Verifique seus valores.\")\n",
    "            # Se não puder converter, pode ser que a coluna contenha strings não numéricas\n",
    "            print(df['mau'].value_counts())\n",
    "\n",
    "    # Verificar a distribuição da variável resposta 'mau' após a conversão\n",
    "    print(\"\\nDistribuição da variável 'mau':\")\n",
    "    print(df['mau'].value_counts(normalize=True))\n",
    "    print(df['mau'].value_counts())\n",
    "\n",
    "else:\n",
    "    print(\"❌ A coluna 'mau' não foi encontrada. Verifique se há erro no nome.\")\n",
    "    print(\"Por favor, corrija o nome da coluna ou o arquivo de dados.\")\n",
    "    # Se 'mau' não existe, as próximas etapas podem falhar. Considere adicionar um `exit()` ou tratamento mais robusto aqui."
   ]
  },
  {
   "cell_type": "markdown",
   "metadata": {
    "id": "_v0f02mE_2si"
   },
   "source": [
    "#### 2) Vamos montar um metadados\n",
    "\n",
    "1. Crie um dataframe com os nomes de cada variável e o tipo de dados de cada variável.\n",
    "2. Adicione uma coluna nesse *dataframe* chamada \"qtd_categorias\" e coloque nela o número de categorias correspondente de cada variável.\n",
    "    Dica:\n",
    "        1. inicie uma lista vazia\n",
    "        2. faça um for ao longo dos nomes das variáveis,\n",
    "        3. conte o número de categorias dessa variável\n",
    "        4. acumule essa informação de 3. na lista que você criou em 1.\n",
    "        5. No final, essa lista pode ser atribuída à nossa variável."
   ]
  },
  {
   "cell_type": "code",
   "execution_count": 50,
   "metadata": {
    "id": "gNF5BRdA_2si"
   },
   "outputs": [
    {
     "name": "stdout",
     "output_type": "stream",
     "text": [
      "\n",
      "Metadados:\n",
      "                                    variavel tipo_dado  qtd_categorias\n",
      "sexo                                    sexo    object               2\n",
      "posse_de_veiculo            posse_de_veiculo    object               2\n",
      "posse_de_imovel              posse_de_imovel    object               2\n",
      "qtd_filhos                        qtd_filhos     int64               8\n",
      "tipo_renda                        tipo_renda    object               5\n",
      "educacao                            educacao    object               5\n",
      "estado_civil                    estado_civil    object               5\n",
      "tipo_residencia              tipo_residencia    object               6\n",
      "idade                                  idade   float64            5298\n",
      "tempo_emprego                  tempo_emprego   float64            3005\n",
      "possui_celular                possui_celular     int64               1\n",
      "possui_fone_comercial  possui_fone_comercial     int64               2\n",
      "possui_fone                      possui_fone     int64               2\n",
      "possui_email                    possui_email     int64               2\n",
      "qt_pessoas_residencia  qt_pessoas_residencia   float64               9\n",
      "mau                                      mau     int64               2\n"
     ]
    }
   ],
   "source": [
    "# Criar dataframe com nomes das variáveis e tipos\n",
    "metadados = pd.DataFrame({\n",
    "    'variavel': df.columns,\n",
    "    'tipo_dado': df.dtypes.astype(str)\n",
    "})\n",
    "\n",
    "# Contar quantidade de categorias por variável\n",
    "qtd_categorias = []\n",
    "\n",
    "for col in df.columns:\n",
    "    qtd = df[col].nunique()\n",
    "    qtd_categorias.append(qtd)\n",
    "\n",
    "# Adicionar essa informação no metadados\n",
    "metadados['qtd_categorias'] = qtd_categorias\n",
    "\n",
    "print(\"\\nMetadados:\")\n",
    "print(metadados)"
   ]
  },
  {
   "cell_type": "markdown",
   "metadata": {
    "id": "h0XKJFhY_2si"
   },
   "source": [
    "#### 3) Crie variáveis dummy para as variáveis necessárias (i.e. aquelas que são qualitativas e não estão armazenadas como {0, 1} ou {True, False}. Crie um *dataframe* apenas com as variáveis apropriadas para entrada no scikitlearn - elimine as variáveis tipo *str*, mantendo apenas suas versões *dummy*."
   ]
  },
  {
   "cell_type": "code",
   "execution_count": 52,
   "metadata": {
    "id": "ePbdZDOi_2sj"
   },
   "outputs": [
    {
     "name": "stdout",
     "output_type": "stream",
     "text": [
      "\n",
      "Primeiras 5 linhas do DataFrame com variáveis dummy (df_dummies):\n",
      "   qtd_filhos      idade  tempo_emprego  possui_celular  \\\n",
      "0           0  58.832877       3.106849               1   \n",
      "1           0  52.356164       8.358904               1   \n",
      "2           0  52.356164       8.358904               1   \n",
      "3           0  46.224658       2.106849               1   \n",
      "4           0  29.230137       3.021918               1   \n",
      "\n",
      "   possui_fone_comercial  possui_fone  possui_email  qt_pessoas_residencia  \\\n",
      "0                      0            0             0                    2.0   \n",
      "1                      0            1             1                    1.0   \n",
      "2                      0            1             1                    1.0   \n",
      "3                      1            1             1                    2.0   \n",
      "4                      0            0             0                    2.0   \n",
      "\n",
      "   mau  sexo_M  ...  educacao_Secondary / secondary special  \\\n",
      "0    0       1  ...                                       1   \n",
      "1    0       0  ...                                       1   \n",
      "2    0       0  ...                                       1   \n",
      "3    0       1  ...                                       0   \n",
      "4    0       0  ...                                       0   \n",
      "\n",
      "   estado_civil_Married  estado_civil_Separated  \\\n",
      "0                     1                       0   \n",
      "1                     0                       0   \n",
      "2                     0                       0   \n",
      "3                     1                       0   \n",
      "4                     1                       0   \n",
      "\n",
      "   estado_civil_Single / not married  estado_civil_Widow  \\\n",
      "0                                  0                   0   \n",
      "1                                  1                   0   \n",
      "2                                  1                   0   \n",
      "3                                  0                   0   \n",
      "4                                  0                   0   \n",
      "\n",
      "   tipo_residencia_House / apartment  tipo_residencia_Municipal apartment  \\\n",
      "0                                  1                                    0   \n",
      "1                                  1                                    0   \n",
      "2                                  1                                    0   \n",
      "3                                  1                                    0   \n",
      "4                                  1                                    0   \n",
      "\n",
      "   tipo_residencia_Office apartment  tipo_residencia_Rented apartment  \\\n",
      "0                                 0                                 0   \n",
      "1                                 0                                 0   \n",
      "2                                 0                                 0   \n",
      "3                                 0                                 0   \n",
      "4                                 0                                 0   \n",
      "\n",
      "   tipo_residencia_With parents  \n",
      "0                             0  \n",
      "1                             0  \n",
      "2                             0  \n",
      "3                             0  \n",
      "4                             0  \n",
      "\n",
      "[5 rows x 29 columns]\n",
      "\n",
      "Informações do DataFrame com variáveis dummy (df_dummies):\n",
      "<class 'pandas.core.frame.DataFrame'>\n",
      "RangeIndex: 16650 entries, 0 to 16649\n",
      "Data columns (total 29 columns):\n",
      " #   Column                                  Non-Null Count  Dtype  \n",
      "---  ------                                  --------------  -----  \n",
      " 0   qtd_filhos                              16650 non-null  int64  \n",
      " 1   idade                                   16650 non-null  float64\n",
      " 2   tempo_emprego                           16650 non-null  float64\n",
      " 3   possui_celular                          16650 non-null  int64  \n",
      " 4   possui_fone_comercial                   16650 non-null  int64  \n",
      " 5   possui_fone                             16650 non-null  int64  \n",
      " 6   possui_email                            16650 non-null  int64  \n",
      " 7   qt_pessoas_residencia                   16650 non-null  float64\n",
      " 8   mau                                     16650 non-null  int64  \n",
      " 9   sexo_M                                  16650 non-null  int64  \n",
      " 10  posse_de_veiculo_Y                      16650 non-null  int64  \n",
      " 11  posse_de_imovel_Y                       16650 non-null  int64  \n",
      " 12  tipo_renda_Pensioner                    16650 non-null  int64  \n",
      " 13  tipo_renda_State servant                16650 non-null  int64  \n",
      " 14  tipo_renda_Student                      16650 non-null  int64  \n",
      " 15  tipo_renda_Working                      16650 non-null  int64  \n",
      " 16  educacao_Higher education               16650 non-null  int64  \n",
      " 17  educacao_Incomplete higher              16650 non-null  int64  \n",
      " 18  educacao_Lower secondary                16650 non-null  int64  \n",
      " 19  educacao_Secondary / secondary special  16650 non-null  int64  \n",
      " 20  estado_civil_Married                    16650 non-null  int64  \n",
      " 21  estado_civil_Separated                  16650 non-null  int64  \n",
      " 22  estado_civil_Single / not married       16650 non-null  int64  \n",
      " 23  estado_civil_Widow                      16650 non-null  int64  \n",
      " 24  tipo_residencia_House / apartment       16650 non-null  int64  \n",
      " 25  tipo_residencia_Municipal apartment     16650 non-null  int64  \n",
      " 26  tipo_residencia_Office apartment        16650 non-null  int64  \n",
      " 27  tipo_residencia_Rented apartment        16650 non-null  int64  \n",
      " 28  tipo_residencia_With parents            16650 non-null  int64  \n",
      "dtypes: float64(3), int64(26)\n",
      "memory usage: 3.7 MB\n",
      "None\n"
     ]
    }
   ],
   "source": [
    "# Identificar colunas categóricas (tipo 'object' ou 'category') para criar dummies\n",
    "# As colunas numéricas (int, float) e a variável 'mau' já convertida serão mantidas.\n",
    "# Colunas booleanas que o pandas leu como 'bool' ou 'object' e que representam 0/1 ou True/False\n",
    "# podem ser convertidas para int antes deste passo se for o caso, para não virarem dummies desnecessariamente.\n",
    "# O pd.get_dummies por padrão ignora colunas numéricas, e transforma apenas as colunas 'object' ou 'category'.\n",
    "\n",
    "# 'df_dummies' será o DataFrame com as variáveis dummy criadas e as numéricas mantidas.\n",
    "# 'drop_first=True' evita a multicolinearidade, criando N-1 colunas para N categorias.\n",
    "# 'dtype=int' garante que as novas colunas dummy sejam do tipo inteiro (0 ou 1).\n",
    "df_dummies = pd.get_dummies(df, drop_first=True, dtype=int)\n",
    "\n",
    "print(\"\\nPrimeiras 5 linhas do DataFrame com variáveis dummy (df_dummies):\")\n",
    "print(df_dummies.head())\n",
    "print(\"\\nInformações do DataFrame com variáveis dummy (df_dummies):\")\n",
    "print(df_dummies.info())"
   ]
  },
  {
   "cell_type": "markdown",
   "metadata": {
    "id": "uhaqFcPE_2sj"
   },
   "source": [
    "#### 4) Qual variável é mais poderosa?\n",
    "\n",
    "Considere as variáveis ```possui_email``` e ```posse_de_veiculo```. Faça uma tabela cruzada entre elas e responda qual delas te parece mais poderosa para prever a probabilidade de ```mau = 1```?"
   ]
  },
  {
   "cell_type": "code",
   "execution_count": 54,
   "metadata": {
    "id": "3wUAHc_-_2sj"
   },
   "outputs": [
    {
     "name": "stdout",
     "output_type": "stream",
     "text": [
      "\n",
      "Tabela cruzada - Probabilidade de mau=1 dado possui_email:\n",
      "mau                  0         1\n",
      "possui_email                    \n",
      "0             0.976269  0.023731\n",
      "1             0.979730  0.020270\n",
      "\n",
      "Tabela cruzada - Probabilidade de mau=1 dado posse_de_veiculo:\n",
      "mau                      0         1\n",
      "posse_de_veiculo                    \n",
      "N                 0.975732  0.024268\n",
      "Y                 0.977905  0.022095\n",
      "\n",
      "Análise de poder preditivo:\n",
      "Para determinar qual variável é mais poderosa, observe as diferenças na probabilidade de 'mau=1' entre as categorias.\n",
      "Uma variável é mais poderosa se houver uma diferença maior na probabilidade de 'mau=1' entre suas categorias.\n",
      "Por exemplo, se a probabilidade de 'mau=1' para quem 'possui_email=0' é 5% e para quem 'possui_email=1' é 10%,\n",
      "e para 'posse_de_veiculo=0' é 6% e para 'posse_de_veiculo=1' é 7%, 'possui_email' seria mais poderosa.\n"
     ]
    }
   ],
   "source": [
    "# Tabelas cruzadas com normalização por linha (index)\n",
    "# Isso mostra a proporção de 'mau=1' para cada categoria de 'possui_email' e 'posse_de_veiculo'.\n",
    "if 'possui_email' in df.columns and 'posse_de_veiculo' in df.columns and 'mau' in df.columns:\n",
    "    cross_email = pd.crosstab(df['possui_email'], df['mau'], normalize='index')\n",
    "    cross_veiculo = pd.crosstab(df['posse_de_veiculo'], df['mau'], normalize='index')\n",
    "\n",
    "    print(\"\\nTabela cruzada - Probabilidade de mau=1 dado possui_email:\")\n",
    "    print(cross_email)\n",
    "\n",
    "    print(\"\\nTabela cruzada - Probabilidade de mau=1 dado posse_de_veiculo:\")\n",
    "    print(cross_veiculo)\n",
    "\n",
    "    print(\"\\nAnálise de poder preditivo:\")\n",
    "    print(\"Para determinar qual variável é mais poderosa, observe as diferenças na probabilidade de 'mau=1' entre as categorias.\")\n",
    "    print(\"Uma variável é mais poderosa se houver uma diferença maior na probabilidade de 'mau=1' entre suas categorias.\")\n",
    "    print(\"Por exemplo, se a probabilidade de 'mau=1' para quem 'possui_email=0' é 5% e para quem 'possui_email=1' é 10%,\")\n",
    "    print(\"e para 'posse_de_veiculo=0' é 6% e para 'posse_de_veiculo=1' é 7%, 'possui_email' seria mais poderosa.\")\n",
    "else:\n",
    "    print(\"\\nAVISO: As colunas 'possui_email', 'posse_de_veiculo' ou 'mau' não foram encontradas para a análise de poder preditivo.\")"
   ]
  },
  {
   "cell_type": "markdown",
   "metadata": {
    "id": "G2Issl2e_2sj"
   },
   "source": [
    "#### 5) Salve a base, pois ela será utilizada no final deste módulo."
   ]
  },
  {
   "cell_type": "code",
   "execution_count": 58,
   "metadata": {
    "id": "KSEj8OL9_2sk"
   },
   "outputs": [
    {
     "name": "stdout",
     "output_type": "stream",
     "text": [
      "\n",
      "Base salva como 'demo01_tratado.csv'.\n"
     ]
    }
   ],
   "source": [
    "# Salvar a base pronta para machine learning\n",
    "# Certifique-se de que 'df_dummies' foi criado na etapa anterior.\n",
    "try:\n",
    "    df_dummies.to_csv('demo01_tratado.csv', index=False)\n",
    "    print(\"\\nBase salva como 'demo01_tratado.csv'.\")\n",
    "except NameError:\n",
    "    print(\"\\nERRO: 'df_dummies' não foi definido. Verifique a execução da etapa 3.\")\n",
    "except Exception as e:\n",
    "    print(f\"\\nOcorreu um erro ao salvar a base: {e}\")"
   ]
  },
  {
   "cell_type": "code",
   "execution_count": null,
   "metadata": {},
   "outputs": [],
   "source": []
  }
 ],
 "metadata": {
  "colab": {
   "provenance": []
  },
  "kernelspec": {
   "display_name": "Python [conda env:base] *",
   "language": "python",
   "name": "conda-base-py"
  },
  "language_info": {
   "codemirror_mode": {
    "name": "ipython",
    "version": 3
   },
   "file_extension": ".py",
   "mimetype": "text/x-python",
   "name": "python",
   "nbconvert_exporter": "python",
   "pygments_lexer": "ipython3",
   "version": "3.12.7"
  }
 },
 "nbformat": 4,
 "nbformat_minor": 4
}
